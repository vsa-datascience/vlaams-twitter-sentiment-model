{
 "cells": [
  {
   "cell_type": "code",
   "execution_count": 1,
   "metadata": {},
   "outputs": [],
   "source": [
    "%load_ext autoreload\n",
    "%autoreload 2"
   ]
  },
  {
   "cell_type": "code",
   "execution_count": 2,
   "metadata": {},
   "outputs": [
    {
     "name": "stdout",
     "output_type": "stream",
     "text": [
      "time: 314 µs\n"
     ]
    }
   ],
   "source": [
    "%load_ext autotime"
   ]
  },
  {
   "cell_type": "code",
   "execution_count": 3,
   "metadata": {},
   "outputs": [
    {
     "name": "stdout",
     "output_type": "stream",
     "text": [
      "/Users/rubenbroekx/Documents/Projects/twitter-sentiment-classifier/twitter_sentiment_classifier\n",
      "time: 2.72 ms\n"
     ]
    }
   ],
   "source": [
    "%cd .."
   ]
  },
  {
   "cell_type": "markdown",
   "metadata": {},
   "source": [
    "# Timestamp Optimisation\n",
    "\n",
    "This notebook calculates the times it is best to fetch the tweets (on a daily basis).\n",
    "\n",
    "Every day, 16 queries can be performed.\n",
    "\n",
    "Source on twitter distribution: https://buffer.com/resources/best-time-to-tweet-research/\n",
    "\n",
    "![Europe Tweet Frequency by Day](https://buffer.com/resources/content/images/resources/wp-content/uploads/2015/06/Most-Popular-Time-to-Tweet-Europe-659x800.png)"
   ]
  },
  {
   "cell_type": "markdown",
   "metadata": {},
   "source": [
    "## 1. Target\n",
    "\n",
    "Try to mimic the target-distribution shown in the image above."
   ]
  },
  {
   "cell_type": "code",
   "execution_count": 9,
   "metadata": {},
   "outputs": [
    {
     "name": "stdout",
     "output_type": "stream",
     "text": [
      "time: 688 µs\n"
     ]
    }
   ],
   "source": [
    "import matplotlib.pyplot as plt\n",
    "\n",
    "from hyperopt import hp\n",
    "from hyperopt import fmin, tpe, space_eval\n",
    "from math import floor\n",
    "from collections import Counter"
   ]
  },
  {
   "cell_type": "code",
   "execution_count": 5,
   "metadata": {},
   "outputs": [
    {
     "name": "stdout",
     "output_type": "stream",
     "text": [
      "time: 650 µs\n"
     ]
    }
   ],
   "source": [
    "# Esimation target, based on the image above\n",
    "TARGET = {\n",
    "    '0-1': 20,\n",
    "    '1-2': 15,\n",
    "    '2-3': 12,\n",
    "    '3-4': 10,\n",
    "    '4-5': 8,\n",
    "    '5-6': 10,\n",
    "    '6-7': 21,\n",
    "    '7-8': 45,\n",
    "    '8-9': 72,\n",
    "    '9-10': 85,\n",
    "    '10-11': 90,\n",
    "    '11-12': 88,\n",
    "    '12-13': 79,\n",
    "    '13-14': 76,\n",
    "    '14-15': 75,\n",
    "    '15-16': 85,\n",
    "    '16-17': 87,\n",
    "    '17-18': 86,\n",
    "    '18-19': 76,\n",
    "    '19-20': 65,\n",
    "    '20-21': 62,\n",
    "    '21-22': 53,\n",
    "    '22-23': 45,\n",
    "    '23-24': 30,\n",
    "}"
   ]
  },
  {
   "cell_type": "code",
   "execution_count": 6,
   "metadata": {},
   "outputs": [
    {
     "name": "stdout",
     "output_type": "stream",
     "text": [
      "time: 594 µs\n"
     ]
    }
   ],
   "source": [
    "# Normalise the target\n",
    "TARGET_NORM = {k:v/sum(TARGET.values()) for k,v in TARGET.items()}"
   ]
  },
  {
   "cell_type": "code",
   "execution_count": 8,
   "metadata": {},
   "outputs": [
    {
     "data": {
      "image/png": "[encoded data removed]",
      "text/plain": [
       "<Figure size 720x360 with 1 Axes>"
      ]
     },
     "metadata": {
      "needs_background": "light"
     },
     "output_type": "display_data"
    },
    {
     "name": "stdout",
     "output_type": "stream",
     "text": [
      "time: 258 ms\n"
     ]
    }
   ],
   "source": [
    "# Visualise to compare with image above\n",
    "plt.figure(figsize=(10,5))\n",
    "plt.bar(TARGET.keys(), TARGET_NORM.values())\n",
    "plt.tight_layout()\n",
    "plt.grid()\n",
    "plt.show()"
   ]
  },
  {
   "cell_type": "markdown",
   "metadata": {},
   "source": [
    "## 2. Estimation\n",
    "\n",
    "Create an estimation/approximation of the target distribution shown above. This is done via hyperparameter optimisation."
   ]
  },
  {
   "cell_type": "code",
   "execution_count": 10,
   "metadata": {},
   "outputs": [
    {
     "name": "stdout",
     "output_type": "stream",
     "text": [
      "100%|██████████| 500/500 [00:11<00:00, 42.54trial/s, best loss: 5.336749795334497e-06] \n"
     ]
    },
    {
     "data": {
      "text/plain": [
       "[0,\n",
       " 6.746085531524582,\n",
       " 8.5471794136073,\n",
       " 9.32595784135408,\n",
       " 10.402477601549375,\n",
       " 11.209649567901057,\n",
       " 12.162362791339707,\n",
       " 13.208955114876849,\n",
       " 14.281270520748093,\n",
       " 15.361142921517494,\n",
       " 16.250351288467368,\n",
       " 17.192042448836023,\n",
       " 18.128706675176446,\n",
       " 19.205638601834067,\n",
       " 20.459704493694097,\n",
       " 21.8786187026953,\n",
       " 24]"
      ]
     },
     "execution_count": 10,
     "metadata": {},
     "output_type": "execute_result"
    },
    {
     "name": "stdout",
     "output_type": "stream",
     "text": [
      "time: 11.8 s\n"
     ]
    }
   ],
   "source": [
    "def objective(args):\n",
    "    points = [0,] + sorted(args) + [24,]\n",
    "    \n",
    "    # Calculate the distribution\n",
    "    counter = Counter()\n",
    "    for i in range(16):\n",
    "        a,b = points[i:i+2]\n",
    "        for n in range(500):\n",
    "            counter[floor(a+(b-a)*(n/500))] += 1\n",
    "    counter_norm = {list(TARGET_NORM.keys())[k]:v/sum(counter.values()) for k,v in counter.items()}\n",
    "    \n",
    "    # Minimise the error between TARGET_NORM and counter_norm via MSE\n",
    "    return sum([(v - counter_norm[k])**2 for k,v in TARGET_NORM.items()]) / len(TARGET_NORM)\n",
    "\n",
    "# Previously calculated distribution, has a loss of 5.314810445270147e-06\n",
    "PREDEFINED = [\n",
    " 6.744403114784788,\n",
    " 8.556299829615943,\n",
    " 9.314036726080687,\n",
    " 10.388159681583515,\n",
    " 11.204499771393554,\n",
    " 12.159433892618932,\n",
    " 13.194785925734962,\n",
    " 14.273679589561931,\n",
    " 15.344018631622887,\n",
    " 16.24590365581264,\n",
    " 17.18670333893522,\n",
    " 18.12169808161924,\n",
    " 19.208416795547137,\n",
    " 20.469007814831993,\n",
    " 21.878788614160104,\n",
    "]\n",
    "\n",
    "space = []\n",
    "for i in range(15):\n",
    "    space.append(hp.normal(str(i),PREDEFINED[i], .01))\n",
    "best = fmin(objective, space, algo=tpe.suggest, max_evals=500)\n",
    "best_points = [0,] + sorted(best.values()) + [24,]\n",
    "best_points"
   ]
  },
  {
   "cell_type": "code",
   "execution_count": 12,
   "metadata": {},
   "outputs": [
    {
     "data": {
      "image/png": "[encoded data removed]",
      "text/plain": [
       "<Figure size 720x360 with 1 Axes>"
      ]
     },
     "metadata": {
      "needs_background": "light"
     },
     "output_type": "display_data"
    },
    {
     "name": "stdout",
     "output_type": "stream",
     "text": [
      "time: 263 ms\n"
     ]
    }
   ],
   "source": [
    "# Visualise the result\n",
    "counter = Counter()\n",
    "for i in range(16):\n",
    "    a,b = best_points[i:i+2]\n",
    "    for n in range(500):\n",
    "        counter[floor(a+(b-a)*(n/500))] += 1\n",
    "counter_norm = {list(TARGET_NORM.keys())[k]:v/sum(counter.values()) for k,v in counter.items()}\n",
    "\n",
    "plt.figure(figsize=(10,5))\n",
    "plt.bar(counter_norm.keys(), counter_norm.values())\n",
    "plt.tight_layout()\n",
    "plt.grid()\n",
    "plt.show()"
   ]
  },
  {
   "cell_type": "code",
   "execution_count": null,
   "metadata": {},
   "outputs": [],
   "source": []
  }
 ],
 "metadata": {
  "hide_input": false,
  "kernelspec": {
   "display_name": "Python 3",
   "language": "python",
   "name": "python3"
  },
  "language_info": {
   "codemirror_mode": {
    "name": "ipython",
    "version": 3
   },
   "file_extension": ".py",
   "mimetype": "text/x-python",
   "name": "python",
   "nbconvert_exporter": "python",
   "pygments_lexer": "ipython3",
   "version": "3.8.2"
  }
 },
 "nbformat": 4,
 "nbformat_minor": 4
}
