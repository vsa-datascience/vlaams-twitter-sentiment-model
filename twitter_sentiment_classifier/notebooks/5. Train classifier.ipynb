{
 "cells": [
  {
   "cell_type": "code",
   "execution_count": 1,
   "metadata": {},
   "outputs": [],
   "source": [
    "%load_ext autoreload\n",
    "%autoreload 2"
   ]
  },
  {
   "cell_type": "code",
   "execution_count": 2,
   "metadata": {},
   "outputs": [
    {
     "name": "stdout",
     "output_type": "stream",
     "text": [
      "time: 274 µs\n"
     ]
    }
   ],
   "source": [
    "%load_ext autotime"
   ]
  },
  {
   "cell_type": "code",
   "execution_count": 3,
   "metadata": {},
   "outputs": [
    {
     "name": "stdout",
     "output_type": "stream",
     "text": [
      "/Users/rubenbroekx/Documents/Projects/twitter-sentiment-classifier/twitter_sentiment_classifier\n",
      "time: 1.18 ms\n"
     ]
    }
   ],
   "source": [
    "%cd .."
   ]
  },
  {
   "cell_type": "code",
   "execution_count": 4,
   "metadata": {},
   "outputs": [
    {
     "name": "stdout",
     "output_type": "stream",
     "text": [
      "/Users/rubenbroekx/Documents/Projects/twitter-sentiment-classifier\n",
      "time: 1.1 ms\n"
     ]
    }
   ],
   "source": [
    "# Necessary to be in root to get access to store\n",
    "%cd .."
   ]
  },
  {
   "cell_type": "markdown",
   "metadata": {},
   "source": [
    "# Train Classifier\n",
    "\n",
    "This notebook will head (classifier) part of the model."
   ]
  },
  {
   "cell_type": "code",
   "execution_count": 5,
   "metadata": {},
   "outputs": [
    {
     "name": "stdout",
     "output_type": "stream",
     "text": [
      "time: 4.75 s\n"
     ]
    }
   ],
   "source": [
    "import json\n",
    "import os\n",
    "import pandas as pd\n",
    "\n",
    "from twitter_sentiment_classifier.store.loader import fetch_all_tweet_data\n",
    "from tqdm import tqdm\n",
    "from collections import Counter"
   ]
  },
  {
   "cell_type": "markdown",
   "metadata": {},
   "source": [
    "## 1. Load in data\n",
    "\n",
    "Load in the different datasets (`train`, `test`, and `validation`)."
   ]
  },
  {
   "cell_type": "code",
   "execution_count": 6,
   "metadata": {},
   "outputs": [
    {
     "name": "stdout",
     "output_type": "stream",
     "text": [
      "time: 773 µs\n"
     ]
    }
   ],
   "source": [
    "# Fetch all tweet data from S3 (skips automatically if this is already the case)\n",
    "fetch_all_tweet_data()"
   ]
  },
  {
   "cell_type": "code",
   "execution_count": 7,
   "metadata": {},
   "outputs": [
    {
     "name": "stdout",
     "output_type": "stream",
     "text": [
      "Loaded in 38723 training annotations\n",
      "Loaded in 3000 testing annotations\n",
      "Loaded in 1198 validation annotations\n",
      "time: 796 ms\n"
     ]
    }
   ],
   "source": [
    "# Training\n",
    "with open(os.path.expanduser('twitter_sentiment_classifier/store/data/tweets_train.jsonl'), 'r') as f:\n",
    "    annotations_train = [json.loads(line) for line in f.readlines()]\n",
    "print(f\"Loaded in {len(annotations_train)} training annotations\")\n",
    "\n",
    "# Testing\n",
    "with open(os.path.expanduser('twitter_sentiment_classifier/store/data/tweets_test.jsonl'), 'r') as f:\n",
    "    annotations_test = [json.loads(line) for line in f.readlines()]\n",
    "print(f\"Loaded in {len(annotations_test)} testing annotations\")\n",
    "\n",
    "# Validation\n",
    "with open(os.path.expanduser('twitter_sentiment_classifier/store/data/tweets_val.jsonl'), 'r') as f:\n",
    "    annotations_val = [json.loads(line) for line in f.readlines()]\n",
    "print(f\"Loaded in {len(annotations_val)} validation annotations\")"
   ]
  },
  {
   "cell_type": "markdown",
   "metadata": {},
   "source": [
    "## 2. Load model\n",
    "\n",
    "Load in the model used to train. We choose to train the RobBERT model from scratch, to not introduce any biases in a previously trained model."
   ]
  },
  {
   "cell_type": "code",
   "execution_count": 9,
   "metadata": {},
   "outputs": [
    {
     "name": "stdout",
     "output_type": "stream",
     "text": [
      "time: 566 µs\n"
     ]
    }
   ],
   "source": [
    "from twitter_sentiment_classifier.sentiment_model import Classifier"
   ]
  },
  {
   "cell_type": "code",
   "execution_count": 10,
   "metadata": {},
   "outputs": [
    {
     "name": "stderr",
     "output_type": "stream",
     "text": [
      "Special tokens have been added in the vocabulary, make sure the associated word embedding are fine-tuned or trained.\n"
     ]
    },
    {
     "data": {
      "text/plain": [
       "Classifier(\n",
       "\tn_classes=3\n",
       "\tbatch_size=1024\n",
       "\tuse_cuda=False\n",
       ")"
      ]
     },
     "execution_count": 10,
     "metadata": {},
     "output_type": "execute_result"
    },
    {
     "name": "stdout",
     "output_type": "stream",
     "text": [
      "time: 4.71 s\n"
     ]
    }
   ],
   "source": [
    "# Load in the model\n",
    "classifier = Classifier()\n",
    "classifier"
   ]
  },
  {
   "cell_type": "markdown",
   "metadata": {},
   "source": [
    "## 3. Training\n",
    "\n",
    "Train part of the model for a limited amount of epochs."
   ]
  },
  {
   "cell_type": "code",
   "execution_count": 10,
   "metadata": {},
   "outputs": [
    {
     "name": "stdout",
     "output_type": "stream",
     "text": [
      "time: 592 µs\n"
     ]
    }
   ],
   "source": [
    "# Number of training epochs\n",
    "N_EPOCHS = 10"
   ]
  },
  {
   "cell_type": "code",
   "execution_count": 12,
   "metadata": {},
   "outputs": [
    {
     "data": {
      "text/html": [
       "\n",
       "    <div>\n",
       "        <style>\n",
       "            /* Turns off some styling */\n",
       "            progress {\n",
       "                /* gets rid of default border in Firefox and Opera. */\n",
       "                border: none;\n",
       "                /* Needs to be in here for Safari polyfill so background images work as expected. */\n",
       "                background-size: auto;\n",
       "            }\n",
       "        </style>\n",
       "      \n",
       "      <progress value='380' max='380' style='width:300px; height:20px; vertical-align: middle;'></progress>\n",
       "      [380/380 00:17, Epoch 10/10]\n",
       "    </div>\n",
       "    <table border=\"1\" class=\"dataframe\">\n",
       "  <thead>\n",
       "    <tr style=\"text-align: left;\">\n",
       "      <th>Step</th>\n",
       "      <th>Training Loss</th>\n",
       "      <th>Validation Loss</th>\n",
       "      <th>Accuracy</th>\n",
       "      <th>F1</th>\n",
       "      <th>Precision</th>\n",
       "      <th>Recall</th>\n",
       "    </tr>\n",
       "  </thead>\n",
       "  <tbody>\n",
       "    <tr>\n",
       "      <td>100</td>\n",
       "      <td>0.728051</td>\n",
       "      <td>0.758259</td>\n",
       "      <td>0.667780</td>\n",
       "      <td>0.666797</td>\n",
       "      <td>0.667728</td>\n",
       "      <td>0.667780</td>\n",
       "    </tr>\n",
       "    <tr>\n",
       "      <td>200</td>\n",
       "      <td>0.723047</td>\n",
       "      <td>0.758172</td>\n",
       "      <td>0.671119</td>\n",
       "      <td>0.669861</td>\n",
       "      <td>0.671332</td>\n",
       "      <td>0.671119</td>\n",
       "    </tr>\n",
       "    <tr>\n",
       "      <td>300</td>\n",
       "      <td>0.721877</td>\n",
       "      <td>0.757971</td>\n",
       "      <td>0.666945</td>\n",
       "      <td>0.665896</td>\n",
       "      <td>0.667127</td>\n",
       "      <td>0.666945</td>\n",
       "    </tr>\n",
       "  </tbody>\n",
       "</table><p>"
      ],
      "text/plain": [
       "<IPython.core.display.HTML object>"
      ]
     },
     "metadata": {},
     "output_type": "display_data"
    },
    {
     "data": {
      "text/html": [
       "\n",
       "    <div>\n",
       "        <style>\n",
       "            /* Turns off some styling */\n",
       "            progress {\n",
       "                /* gets rid of default border in Firefox and Opera. */\n",
       "                border: none;\n",
       "                /* Needs to be in here for Safari polyfill so background images work as expected. */\n",
       "                background-size: auto;\n",
       "            }\n",
       "        </style>\n",
       "      \n",
       "      <progress value='3' max='3' style='width:300px; height:20px; vertical-align: middle;'></progress>\n",
       "      [3/3 00:00]\n",
       "    </div>\n",
       "    "
      ],
      "text/plain": [
       "<IPython.core.display.HTML object>"
      ]
     },
     "metadata": {},
     "output_type": "display_data"
    },
    {
     "data": {
      "text/plain": [
       "PredictionOutput(predictions=array([[-0.9718493 ,  2.5009346 , -1.0385834 ],\n",
       "       [ 0.14673176,  1.0660126 , -1.3656752 ],\n",
       "       [-1.5171548 ,  2.1559024 , -0.23238656],\n",
       "       ...,\n",
       "       [-1.8455203 , -0.6517119 ,  2.9414067 ],\n",
       "       [-0.9130719 ,  1.0140048 , -0.05105001],\n",
       "       [-1.4499953 , -0.9083092 ,  2.7736511 ]], dtype=float32), label_ids=array([1, 1, 1, ..., 2, 1, 2]), metrics={'eval_loss': 0.6688432097434998, 'eval_accuracy': 0.7146666666666667, 'eval_f1': 0.7146277973933322, 'eval_precision': 0.7155947454238136, 'eval_recall': 0.7146666666666667})"
      ]
     },
     "execution_count": 12,
     "metadata": {},
     "output_type": "execute_result"
    },
    {
     "name": "stdout",
     "output_type": "stream",
     "text": [
      "time: 55.8 s\n"
     ]
    }
   ],
   "source": [
    "classifier.train(\n",
    "    n_epochs=N_EPOCHS,\n",
    "    train_samples=annotations_train,\n",
    "    val_samples=annotations_val,\n",
    "    test_samples=annotations_test,\n",
    ")"
   ]
  },
  {
   "cell_type": "markdown",
   "metadata": {},
   "source": [
    "## 4. Evaluation\n",
    "\n",
    "Evaluate this intermediate version of the model. It should already have a decent performance."
   ]
  },
  {
   "cell_type": "code",
   "execution_count": 11,
   "metadata": {},
   "outputs": [
    {
     "data": {
      "text/html": [
       "\n",
       "    <div>\n",
       "        <style>\n",
       "            /* Turns off some styling */\n",
       "            progress {\n",
       "                /* gets rid of default border in Firefox and Opera. */\n",
       "                border: none;\n",
       "                /* Needs to be in here for Safari polyfill so background images work as expected. */\n",
       "                background-size: auto;\n",
       "            }\n",
       "        </style>\n",
       "      \n",
       "      <progress value='3' max='3' style='width:300px; height:20px; vertical-align: middle;'></progress>\n",
       "      [3/3 00:00]\n",
       "    </div>\n",
       "    "
      ],
      "text/plain": [
       "<IPython.core.display.HTML object>"
      ]
     },
     "metadata": {},
     "output_type": "display_data"
    },
    {
     "data": {
      "text/plain": [
       "PredictionOutput(predictions=array([[-1.1905937 ,  2.5736046 , -0.8790978 ],\n",
       "       [ 0.18675911,  1.0651293 , -1.4068074 ],\n",
       "       [-1.7247698 ,  2.2494407 , -0.10740978],\n",
       "       ...,\n",
       "       [-1.9217447 , -0.62404865,  3.002963  ],\n",
       "       [-0.96668375,  1.0870813 , -0.05590736],\n",
       "       [-1.5493615 , -0.87750244,  2.8522382 ]], dtype=float32), label_ids=array([1, 1, 1, ..., 2, 1, 2]), metrics={'eval_loss': 0.6695119142532349, 'eval_accuracy': 0.711, 'eval_f1': 0.7110215714963962, 'eval_precision': 0.7111935119957908, 'eval_recall': 0.711})"
      ]
     },
     "execution_count": 11,
     "metadata": {},
     "output_type": "execute_result"
    },
    {
     "name": "stdout",
     "output_type": "stream",
     "text": [
      "time: 3.08 s\n"
     ]
    }
   ],
   "source": [
    "classifier.eval(annotations_test)"
   ]
  },
  {
   "cell_type": "code",
   "execution_count": null,
   "metadata": {},
   "outputs": [],
   "source": []
  }
 ],
 "metadata": {
  "hide_input": false,
  "kernelspec": {
   "display_name": "Python 3",
   "language": "python",
   "name": "python3"
  },
  "language_info": {
   "codemirror_mode": {
    "name": "ipython",
    "version": 3
   },
   "file_extension": ".py",
   "mimetype": "text/x-python",
   "name": "python",
   "nbconvert_exporter": "python",
   "pygments_lexer": "ipython3",
   "version": "3.8.2"
  },
  "toc": {
   "base_numbering": 1,
   "nav_menu": {},
   "number_sections": true,
   "sideBar": true,
   "skip_h1_title": false,
   "title_cell": "Table of Contents",
   "title_sidebar": "Contents",
   "toc_cell": false,
   "toc_position": {},
   "toc_section_display": true,
   "toc_window_display": false
  }
 },
 "nbformat": 4,
 "nbformat_minor": 4
}
