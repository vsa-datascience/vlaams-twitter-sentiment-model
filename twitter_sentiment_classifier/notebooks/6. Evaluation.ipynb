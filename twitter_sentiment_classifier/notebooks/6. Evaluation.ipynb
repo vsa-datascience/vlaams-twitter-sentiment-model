{
 "cells": [
  {
   "cell_type": "code",
   "execution_count": 1,
   "metadata": {},
   "outputs": [],
   "source": [
    "%load_ext autoreload\n",
    "%autoreload 2"
   ]
  },
  {
   "cell_type": "code",
   "execution_count": 2,
   "metadata": {},
   "outputs": [
    {
     "name": "stdout",
     "output_type": "stream",
     "text": [
      "time: 296 µs\n"
     ]
    }
   ],
   "source": [
    "%load_ext autotime"
   ]
  },
  {
   "cell_type": "code",
   "execution_count": 3,
   "metadata": {},
   "outputs": [
    {
     "name": "stdout",
     "output_type": "stream",
     "text": [
      "/Users/rubenbroekx/Documents/Projects/twitter-sentiment-classifier/twitter_sentiment_classifier\n",
      "time: 1.48 ms\n"
     ]
    }
   ],
   "source": [
    "%cd .."
   ]
  },
  {
   "cell_type": "code",
   "execution_count": 4,
   "metadata": {},
   "outputs": [
    {
     "name": "stdout",
     "output_type": "stream",
     "text": [
      "/Users/rubenbroekx/Documents/Projects/twitter-sentiment-classifier\n",
      "time: 995 µs\n"
     ]
    }
   ],
   "source": [
    "# Necessary to be in root to get access to store\n",
    "%cd .."
   ]
  },
  {
   "cell_type": "markdown",
   "metadata": {},
   "source": [
    "# Evaluate\n",
    "\n",
    "Evaluate the SentimentModel."
   ]
  },
  {
   "cell_type": "code",
   "execution_count": 5,
   "metadata": {},
   "outputs": [
    {
     "name": "stdout",
     "output_type": "stream",
     "text": [
      "time: 4.6 s\n"
     ]
    }
   ],
   "source": [
    "import json\n",
    "import os\n",
    "import pandas as pd\n",
    "\n",
    "from twitter_sentiment_classifier.store.loader import fetch_all_tweet_data\n",
    "from tqdm import tqdm\n",
    "from collections import Counter"
   ]
  },
  {
   "cell_type": "markdown",
   "metadata": {},
   "source": [
    "## 1. Load in data\n",
    "\n",
    "Load in the different datasets (`train`, `test`, and `validation`)."
   ]
  },
  {
   "cell_type": "code",
   "execution_count": 6,
   "metadata": {},
   "outputs": [
    {
     "name": "stdout",
     "output_type": "stream",
     "text": [
      "time: 777 µs\n"
     ]
    }
   ],
   "source": [
    "# Fetch all tweet data from S3 (skips automatically if this is already the case)\n",
    "fetch_all_tweet_data()"
   ]
  },
  {
   "cell_type": "code",
   "execution_count": 7,
   "metadata": {},
   "outputs": [
    {
     "name": "stdout",
     "output_type": "stream",
     "text": [
      "Loaded in 3000 testing annotations\n",
      "time: 45 ms\n"
     ]
    }
   ],
   "source": [
    "# Testing\n",
    "with open(os.path.expanduser('twitter_sentiment_classifier/store/data/tweets_test.jsonl'), 'r') as f:\n",
    "    annotations_test = [json.loads(line) for line in f.readlines()]\n",
    "print(f\"Loaded in {len(annotations_test)} testing annotations\")"
   ]
  },
  {
   "cell_type": "markdown",
   "metadata": {},
   "source": [
    "## 2. Predict\n",
    "\n",
    "Create predictions for all the test samples."
   ]
  },
  {
   "cell_type": "code",
   "execution_count": 8,
   "metadata": {},
   "outputs": [
    {
     "name": "stdout",
     "output_type": "stream",
     "text": [
      "time: 573 µs\n"
     ]
    }
   ],
   "source": [
    "from twitter_sentiment_classifier.sentiment_model import batch_predict"
   ]
  },
  {
   "cell_type": "code",
   "execution_count": 9,
   "metadata": {},
   "outputs": [
    {
     "name": "stdout",
     "output_type": "stream",
     "text": [
      "time: 1.89 ms\n"
     ]
    }
   ],
   "source": [
    "texts = [a['text'] for a in annotations_test]\n",
    "labels = [a['label'] for a in annotations_test]"
   ]
  },
  {
   "cell_type": "code",
   "execution_count": 10,
   "metadata": {},
   "outputs": [
    {
     "name": "stderr",
     "output_type": "stream",
     "text": [
      "Downloading sentiment-model-classes3.zip: 413MB [02:01, 3.58MB/s]                              \n"
     ]
    },
    {
     "name": "stdout",
     "output_type": "stream",
     "text": [
      "Unzipping sentiment-model-classes3.zip...\n"
     ]
    },
    {
     "name": "stderr",
     "output_type": "stream",
     "text": [
      "Special tokens have been added in the vocabulary, make sure the associated word embedding are fine-tuned or trained.\n",
      "100%|██████████| 94/94 [05:43<00:00,  3.65s/it]"
     ]
    },
    {
     "name": "stdout",
     "output_type": "stream",
     "text": [
      "time: 7min 52s\n"
     ]
    },
    {
     "name": "stderr",
     "output_type": "stream",
     "text": [
      "\n"
     ]
    }
   ],
   "source": [
    "predictions = batch_predict(texts=texts)"
   ]
  },
  {
   "cell_type": "markdown",
   "metadata": {},
   "source": [
    "## 3. Evaluate\n",
    "\n",
    "Evaluate the predictions using the accuracy measure and confusion matrices."
   ]
  },
  {
   "cell_type": "code",
   "execution_count": 11,
   "metadata": {},
   "outputs": [
    {
     "name": "stdout",
     "output_type": "stream",
     "text": [
      "time: 614 ms\n"
     ]
    }
   ],
   "source": [
    "import seaborn as sns\n",
    "import matplotlib.pyplot as plt\n",
    "\n",
    "from typing import List, Any\n",
    "from sklearn.metrics import confusion_matrix"
   ]
  },
  {
   "cell_type": "code",
   "execution_count": 12,
   "metadata": {},
   "outputs": [
    {
     "name": "stdout",
     "output_type": "stream",
     "text": [
      "time: 2.15 ms\n"
     ]
    }
   ],
   "source": [
    "LABELS = ['NEGATIVE', 'NEUTRAL', 'POSITIVE']\n",
    "\n",
    "def calc_accuracy(\n",
    "        labels_true: List[Any],\n",
    "        labels_pred: List[Any],\n",
    "        display: bool = False,\n",
    "):\n",
    "    \"\"\"Calculate the accuracy.\"\"\"\n",
    "    counter = Counter()\n",
    "    for true, pred in zip(labels_true, labels_pred):\n",
    "        assert true in LABELS\n",
    "        assert pred in LABELS\n",
    "        counter[true == pred] += 1\n",
    "    assert counter[True] + counter[False] == len(labels_true)\n",
    "    \n",
    "    # Create a response\n",
    "    response = {\n",
    "        'n_correct':   counter[True],\n",
    "        'n_incorrect': counter[False],\n",
    "        'accuracy':    counter[True] / len(labels_true)\n",
    "    }\n",
    "    if display:\n",
    "        print(\"\\nEvaluation result:\")\n",
    "        print(f\" -   Correctly classified: {response['n_correct']}\")\n",
    "        print(f\" - Incorrectly classified: {response['n_incorrect']}\")\n",
    "        print(f\" -               Accuracy: {round(100 * response['accuracy'], 2)}%\")\n",
    "    return response\n",
    "\n",
    "def calc_confusion_matrix(\n",
    "        labels_true: List[Any],\n",
    "        labels_pred: List[Any],\n",
    "        display: bool = False,\n",
    "):\n",
    "    \"\"\"Print the confusion matrix.\"\"\"\n",
    "    matrix = confusion_matrix(labels_true, labels_pred, labels=LABELS)\n",
    "    \n",
    "    if display:\n",
    "        print(\"\\nConfusion matrix:\")\n",
    "        print_confusion_matrix(matrix)\n",
    "    return matrix\n",
    "\n",
    "\n",
    "def calc_confusion_matrix_relative(\n",
    "        labels_true: List[Any],\n",
    "        labels_pred: List[Any],\n",
    "        display: bool = False,\n",
    "):\n",
    "    \"\"\"Print the confusion matrix.\"\"\"\n",
    "    matrix = confusion_matrix(labels_true, labels_pred, labels=LABELS).astype('float64')\n",
    "    n_label = [len([l for l in labels_true if l == label]) for label in LABELS]\n",
    "    for x in range(len(LABELS)):\n",
    "        matrix[:, x] = [round(100 * matrix[y, x] / n_label[y], 2) for y in range(len(LABELS))]\n",
    "    \n",
    "    if display:\n",
    "        print(\"\\nRelative confusion matrix:\")\n",
    "        print_confusion_matrix(matrix)\n",
    "    return matrix\n",
    "\n",
    "def print_confusion_matrix(\n",
    "        matrix,\n",
    ") -> None:\n",
    "    \"\"\"Print the given confusion matrix.\"\"\"\n",
    "    print(f\"{'':^10s}| NEGATIVE | NEUTRAL  | POSITIVE |\")\n",
    "    for x, abbr in enumerate(LABELS):\n",
    "        print_divider(len(LABELS) + 2)\n",
    "        values = [matrix[y, x] for y in range(len(LABELS))]\n",
    "        values.append(round(sum(values)))\n",
    "        print(f\"{abbr:^10s}|\" + '|'.join([f\"{str(round(v, 1)):^10s}\" if v else f\"{'':^10s}\" for v in values]))\n",
    "    print_divider(len(LABELS) + 2)\n",
    "    print(f\"{'':^10s}|\" +\n",
    "          \"|\".join([f\"{str(round(matrix[y, :].sum())):^10s}\" for y in range(len(LABELS))]) +\n",
    "          \"|\")\n",
    "    \n",
    "def print_divider(\n",
    "        n: int,\n",
    "        space: int = 10,\n",
    "):\n",
    "    \"\"\"Print a divider-line of the confusion matrix.\"\"\"\n",
    "    print('+'.join(['-' * space for _ in range(n)]))\n",
    "    \n",
    "def plot_heatmap(matrix, fmt:str='d'):\n",
    "    \"\"\"Create a heatmap-plot of the model's confusion.\"\"\"\n",
    "    plt.figure(figsize=(5,4))\n",
    "    sns.heatmap(\n",
    "        matrix.astype('int' if fmt=='d' else 'float'),\n",
    "        xticklabels=LABELS,\n",
    "        yticklabels=LABELS,\n",
    "        annot=True,\n",
    "        fmt=fmt\n",
    "    )"
   ]
  },
  {
   "cell_type": "code",
   "execution_count": 13,
   "metadata": {},
   "outputs": [
    {
     "name": "stdout",
     "output_type": "stream",
     "text": [
      "Model accuracy\n",
      "\n",
      "Evaluation result:\n",
      " -   Correctly classified: 2144\n",
      " - Incorrectly classified: 856\n",
      " -               Accuracy: 71.47%\n",
      "time: 2.67 ms\n"
     ]
    }
   ],
   "source": [
    "print(\"Model accuracy\")\n",
    "accuracy = calc_accuracy(\n",
    "    labels_true=labels,\n",
    "    labels_pred=predictions,\n",
    "    display=True,\n",
    ")"
   ]
  },
  {
   "cell_type": "code",
   "execution_count": 14,
   "metadata": {},
   "outputs": [
    {
     "name": "stdout",
     "output_type": "stream",
     "text": [
      "Confusion matrix (expressed in total values)\n"
     ]
    },
    {
     "data": {
      "image/png": "[encoded data removed]",
      "text/plain": [
       "<Figure size 360x288 with 2 Axes>"
      ]
     },
     "metadata": {
      "needs_background": "light"
     },
     "output_type": "display_data"
    },
    {
     "name": "stdout",
     "output_type": "stream",
     "text": [
      "time: 170 ms\n"
     ]
    }
   ],
   "source": [
    "print(\"Confusion matrix (expressed in total values)\")\n",
    "confusion = calc_confusion_matrix(\n",
    "    labels_true=labels,\n",
    "    labels_pred=predictions,\n",
    "    display=False,\n",
    ").transpose()\n",
    "plot_heatmap(confusion)"
   ]
  },
  {
   "cell_type": "code",
   "execution_count": 15,
   "metadata": {},
   "outputs": [
    {
     "name": "stdout",
     "output_type": "stream",
     "text": [
      "Relative confusion matrix (expressed in percentages)\n"
     ]
    },
    {
     "data": {
      "image/png": "[encoded data removed]",
      "text/plain": [
       "<Figure size 360x288 with 2 Axes>"
      ]
     },
     "metadata": {
      "needs_background": "light"
     },
     "output_type": "display_data"
    },
    {
     "name": "stdout",
     "output_type": "stream",
     "text": [
      "time: 145 ms\n"
     ]
    }
   ],
   "source": [
    "print(\"Relative confusion matrix (expressed in percentages)\")\n",
    "confusion_rel = calc_confusion_matrix_relative(\n",
    "    labels_true=labels,\n",
    "    labels_pred=predictions,\n",
    "    display=False,\n",
    ").transpose()\n",
    "plot_heatmap(confusion_rel, fmt='.1f')"
   ]
  },
  {
   "cell_type": "code",
   "execution_count": null,
   "metadata": {},
   "outputs": [],
   "source": []
  }
 ],
 "metadata": {
  "hide_input": false,
  "kernelspec": {
   "display_name": "Python 3",
   "language": "python",
   "name": "python3"
  },
  "language_info": {
   "codemirror_mode": {
    "name": "ipython",
    "version": 3
   },
   "file_extension": ".py",
   "mimetype": "text/x-python",
   "name": "python",
   "nbconvert_exporter": "python",
   "pygments_lexer": "ipython3",
   "version": "3.8.2"
  },
  "toc": {
   "base_numbering": 1,
   "nav_menu": {},
   "number_sections": true,
   "sideBar": true,
   "skip_h1_title": false,
   "title_cell": "Table of Contents",
   "title_sidebar": "Contents",
   "toc_cell": false,
   "toc_position": {},
   "toc_section_display": true,
   "toc_window_display": false
  }
 },
 "nbformat": 4,
 "nbformat_minor": 4
}
